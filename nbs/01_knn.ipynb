{
 "cells": [
  {
   "cell_type": "code",
   "execution_count": null,
   "metadata": {},
   "outputs": [],
   "source": [
    "#default_exp knn"
   ]
  },
  {
   "cell_type": "code",
   "execution_count": null,
   "metadata": {},
   "outputs": [],
   "source": [
    "# hide\n",
    "import sys\n",
    "sys.path.append(\"..\")"
   ]
  },
  {
   "cell_type": "markdown",
   "metadata": {},
   "source": [
    "### About:\n",
    "\n",
    "K-nearest neighbors(KNN) algorithms is a type of surpervised machine learning algorithms^*. It is a lazy learning algorithm since it doesn't have a specialized training phase. Rather, it uses all of the data for training while classifying a new data point or instance. KNN is a non-parametric learning algorithm, which means that it doesn't assume anything about the underlying data.\n",
    "\n",
    "### Theory:\n",
    "\n",
    "Simplest of all the surpervised machine learning algorithms. It calculates the distance of a new data point to all other training points. The distance can be of any type e.g Euclidean or Manhattan etc. It then selects the K-nearest data points, where K can be any integer. Finally it assigns the data point to the class to which the majority of the K data points belong.\n",
    "\n",
    "### Use Cases: \n",
    "\n",
    "- Recommendation systems\n",
    "\n",
    "\n",
    "### Pseudocode:\n",
    "\n",
    "kNN (dataset, sample){\n",
    "   1. Go through each item in my dataset, and calculate the \"distance\" \n",
    "   from that data item to my specific sample.\n",
    "   2. Classify the sample as the majority class between K samples in \n",
    "   the dataset having minimum distance to the sample.\n",
    "}"
   ]
  },
  {
   "cell_type": "code",
   "execution_count": null,
   "metadata": {},
   "outputs": [],
   "source": [
    "#export\n",
    "import numpy as np\n",
    "from collections import Counter\n",
    "\n",
    "def euclidean_distance(x1, x2):\n",
    "    return np.sqrt(np.sum(x1-x2)**2)\n",
    "    \n",
    "class KNN:\n",
    "    def __init__(self, k=3):\n",
    "        self.k = k\n",
    "        \n",
    "    def fit(self, X, y):\n",
    "        self.X_train = X\n",
    "        self.y_train = y\n",
    "    \n",
    "    def predict(self, X):\n",
    "        predicted_labels = [self._predict(x) for x in X]\n",
    "        return np.array(predicted_labels)\n",
    "        \n",
    "    def _predict(self, x):\n",
    "        # compute distances\n",
    "        distances = [euclidean_distance(x, x_train) for x_train in self.X_train]\n",
    "        \n",
    "        # get k nearest samples\n",
    "        k_idx = np.argsort(distances)[:self.k]\n",
    "        k_nearest_labels = [self.y_train[i] for i in k_idx]\n",
    "        \n",
    "        # majority vote, most common class label\n",
    "        most_common = Counter(k_nearest_labels).most_common(1)\n",
    "        return most_common[0][0]       "
   ]
  },
  {
   "cell_type": "code",
   "execution_count": null,
   "metadata": {},
   "outputs": [],
   "source": []
  },
  {
   "cell_type": "markdown",
   "metadata": {},
   "source": [
    "### Refactor / Experimenting section"
   ]
  },
  {
   "cell_type": "code",
   "execution_count": null,
   "metadata": {},
   "outputs": [],
   "source": [
    "#hide\n",
    "class KNN:\n",
    "    \n",
    "    def __init__(self):\n",
    "        pass \n",
    "               \n",
    "    \n",
    "    def fit(self, X, y):\n",
    "        \"\"\"Fit the model using X as training data and y as target values\"\"\"\n",
    "        self.x = X\n",
    "        self.y = y\n",
    "        \n",
    "    # Find k nearest labeled points and let them vote on the new output:\n",
    "    def majority_vote(self, labels: List[str]) -> str:\n",
    "        vote_counts = Counter[labels]\n",
    "        winner, winner_count = vote_counts.most_common(1)[0]\n",
    "        num_winners = len([count for count in vote_counts.values() if count == winner_count])\n",
    "    \n",
    "        if num_winners == 1:\n",
    "            return winner\n",
    "        else:\n",
    "            return majority_vote(labels[:-1])    \n",
    "    \n",
    "    def predict(self, k: int,  Labeled_points, labeled_points: List[LabeledPoint], new_point: Vector) -> str:\n",
    "        \"\"\"Predict the class labels for the provided data.\"\"\"\n",
    "        class LabeledPoint(NamedTuple):\n",
    "            point: Vector\n",
    "            label: str\n",
    "    \n",
    "        # order the labeled point from nearest to farthest:\n",
    "        by_distance = sorted(labeled_points, key = lambda lp: distance(lp.point, new_point))\n",
    "    \n",
    "        # Find the labels for the k closes:\n",
    "        k_nearest_labels = [lp.label for lp in by_distance[:k]]\n",
    "    \n",
    "        # vote:\n",
    "        return predict(k_nearest_labels)"
   ]
  },
  {
   "cell_type": "code",
   "execution_count": null,
   "metadata": {},
   "outputs": [],
   "source": [
    "#hide\n",
    "from typing import List\n",
    "from collections import Counter\n",
    "\n",
    "# Find k nearest labeled points and let them vote on the new output:\n",
    "def majority_vote(labels: List[str]) -> str:\n",
    "    vote_counts = Counter[labels]\n",
    "    winner, winner_count = vote_counts.most_common(1)[0]\n",
    "    num_winners = len([count for count in vote_counts.values() if count == winner_count])\n",
    "    \n",
    "    if num_winners == 1:\n",
    "        return winner\n",
    "    else:\n",
    "        return majority_vote(labels[:-1])\n",
    "    "
   ]
  },
  {
   "cell_type": "code",
   "execution_count": null,
   "metadata": {},
   "outputs": [],
   "source": [
    "#hide\n",
    "class LabeledPoint(NamedTuple):\n",
    "    point: Vector\n",
    "    label: str"
   ]
  },
  {
   "cell_type": "code",
   "execution_count": null,
   "metadata": {},
   "outputs": [],
   "source": [
    "#hide\n",
    "\n",
    "from lambdaML.util import Vector, distance\n",
    "\n",
    "def classify(k: int, labeled_points: List[LabeledPoint], new_point: Vector) -> str:\n",
    "    \n",
    "    # order the labeled point from nearest to farthest:\n",
    "    by_distance = sorted(labeled_points, key = lambda lp: distance(lp.point, new_point))\n",
    "    \n",
    "    # Find the labels for the k closes:\n",
    "    k_nearest_labels = [lp.label for lp in by_distance[:k]]\n",
    "    \n",
    "    # vote:\n",
    "    return majority_vote(k_nearest_labels)\n",
    "        "
   ]
  }
 ],
 "metadata": {
  "kernelspec": {
   "display_name": "lambda",
   "language": "python",
   "name": "lambda"
  }
 },
 "nbformat": 4,
 "nbformat_minor": 4
}
