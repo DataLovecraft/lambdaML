{
 "cells": [
  {
   "cell_type": "code",
   "execution_count": null,
   "metadata": {},
   "outputs": [],
   "source": [
    "#default_exp knn"
   ]
  },
  {
   "cell_type": "markdown",
   "metadata": {},
   "source": [
    "### About:\n",
    "\n",
    "K-nearest neighbors(KNN) algorithms is a type of surpervised machine learning algorithms^*. It is a lazy learning algorithm since it doesn't have a specialized training phase. Rather, it uses all of the data for training while classifying a new data point or instance. KNN is a non-parametric learning algorithm, which means that it doesn't assume anything about the underlying data.\n",
    "\n",
    "### Theory:\n",
    "\n",
    "Simplest of all the surpervised machine learning algorithms. It calculates the distance of a new data point to all other training points. The distance can be of any type e.g Euclidean or Manhattan etc. It then selects the K-nearest data points, where K can be any integer. Finally it assigns the data point to the class to which the majority of the K data points belong.\n",
    "\n",
    "### Use Cases: \n",
    "\n",
    "\n",
    "### Pseudocode:\n",
    "\n",
    "kNN (dataset, sample){\n",
    "   1. Go through each item in my dataset, and calculate the \"distance\" \n",
    "   from that data item to my specific sample.\n",
    "   2. Classify the sample as the majority class between K samples in \n",
    "   the dataset having minimum distance to the sample.\n",
    "}"
   ]
  },
  {
   "cell_type": "code",
   "execution_count": null,
   "metadata": {},
   "outputs": [],
   "source": []
  }
 ],
 "metadata": {
  "kernelspec": {
   "display_name": "lambda",
   "language": "python",
   "name": "lambda"
  }
 },
 "nbformat": 4,
 "nbformat_minor": 4
}
